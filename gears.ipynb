{
 "cells": [
  {
   "cell_type": "markdown",
   "metadata": {
    "deletable": true,
    "editable": true
   },
   "source": [
    "## Import Packages"
   ]
  },
  {
   "cell_type": "code",
   "execution_count": null,
   "metadata": {
    "collapsed": false,
    "deletable": true,
    "editable": true
   },
   "outputs": [],
   "source": [
    "#importing some useful packages\n",
    "import matplotlib.pyplot as plt\n",
    "import matplotlib.image as mpimg\n",
    "import numpy as np\n",
    "import math\n",
    "import os\n",
    "import cv2\n",
    "%matplotlib inline"
   ]
  },
  {
   "cell_type": "markdown",
   "metadata": {
    "deletable": true,
    "editable": true
   },
   "source": [
    "## Read in an Image"
   ]
  },
  {
   "cell_type": "code",
   "execution_count": null,
   "metadata": {
    "collapsed": false,
    "deletable": true,
    "editable": true
   },
   "outputs": [],
   "source": [
    "#reading in an image\n",
    "image = cv2.imread('gearcount_01.png')\n",
    "\n",
    "# printing out some stats and plotting\n",
    "# print('This image is:', type(image), 'with dimesions:', image.shape)\n",
    "cv2.imshow('original', image)"
   ]
  },
  {
   "cell_type": "code",
   "execution_count": null,
   "metadata": {
    "collapsed": false,
    "deletable": true,
    "editable": true
   },
   "outputs": [],
   "source": [
    "def grayscale(img):\n",
    "    \"\"\"Applies the Grayscale transform\"\"\"\n",
    "    return cv2.cvtColor(img, cv2.COLOR_BGR2GRAY)\n",
    "    \n",
    "def canny(img, low_threshold, high_threshold):\n",
    "    \"\"\"Applies the Canny transform\"\"\"\n",
    "    return cv2.Canny(img, low_threshold, high_threshold)\n",
    "\n",
    "def gaussian_blur(img, kernel_size):\n",
    "    \"\"\"Applies a Gaussian Noise kernel\"\"\"\n",
    "    return cv2.GaussianBlur(img, (kernel_size, kernel_size), 0)\n",
    "\n",
    "# Python 3 has support for cool math symbols.\n",
    "def weighted_img(img, initial_img, α=0.8, β=1., λ=0.):\n",
    "    return cv2.addWeighted(initial_img, α, img, β, λ)"
   ]
  },
  {
   "cell_type": "markdown",
   "metadata": {
    "deletable": true,
    "editable": true
   },
   "source": [
    "## Test Images"
   ]
  },
  {
   "cell_type": "code",
   "execution_count": null,
   "metadata": {
    "collapsed": false,
    "deletable": true,
    "editable": true
   },
   "outputs": [],
   "source": [
    "def gear_process(img_path):\n",
    "    orig = cv2.imread(img_path)\n",
    "    img = orig.copy()\n",
    "    \n",
    "    #After Applying Threshold\n",
    "    gray = grayscale(img)\n",
    "    blur = gaussian_blur(gray, 5)\n",
    "    ret,threshold = cv2.threshold(blur, 105, 255 , cv2.THRESH_BINARY)\n",
    "    \n",
    "    #Counting the Number of teeth\n",
    "    im2,contours,hierarchy = cv2.findContours(threshold, cv2.RETR_TREE, cv2.CHAIN_APPROX_NONE)\n",
    "    print(len(contours))\n",
    "    # cv2.drawContours\n",
    "    kle = cv2.drawContours(im2, contours, -1, (255,0,0), 1)\n",
    "    # cv2.imshow('draw', im2)\n",
    "    cnt = contours[0]\n",
    "    x,y,w,h = cv2.boundingRect(cnt)\n",
    "    # cv2.rectangle(kle,(x,y),(x+w,y+h),(255,255,0),2)\n",
    "    aspect_ratio = float(w)/h\n",
    "    print(aspect_ratio)\n",
    "    print(x,y,w,h)\n",
    "    radius = w/2\n",
    "    print(radius)\n",
    "    c_x,c_y=(x+w/2),(y+h/2)\n",
    "    print(c_x,c_y)\n",
    "    \n",
    "    # making radius and center as ints rather than floats\n",
    "    # TODO: check how to make float acceptable\n",
    "    radius = 132\n",
    "    c_x,c_y=192,183\n",
    "    \n",
    "    cv2.circle(kle, (c_x,c_y), radius, [255,255,255], 1)\n",
    "    \n",
    "    hull = cv2.convexHull(cnt, returnPoints = False)\n",
    "    defects = cv2.convexityDefects(cnt,hull)\n",
    "\n",
    "\n",
    "    kle = cv2.cvtColor(kle, cv2.COLOR_GRAY2BGR)\n",
    "    r, g, b = cv2.split(kle)\n",
    "    kle = cv2.merge((b, g, r))\n",
    "    \n",
    "    teeth_count = 0\n",
    "    for i in range(defects.shape[0]):\n",
    "        s,e,f,d = defects[i,0]\n",
    "        start = tuple(cnt[s][0])\n",
    "        end = tuple(cnt[e][0])\n",
    "        far = tuple(cnt[f][0])\n",
    "        # print (start, end, far)\n",
    "        # if far to center distance is >= radius ignore\n",
    "        # Note: ignore even if approximately equal to radius \n",
    "        # else\n",
    "        teeth_count += 1\n",
    "        cv2.circle(kle,far,1,[0,255,0],-1)\n",
    "        \n",
    "    # cv2.drawContours(kle, defects, -1, [0,255,0], 3)\n",
    "    \n",
    "    # TODO: calculate the distance between far in the above loop to the c_x,c_y circle center\n",
    "    # This should give you the radius of inner-circle.\n",
    "    # NOTE: calculate all far-center distances and average to reduce noise\n",
    "\n",
    "    print(teeth_count)\n",
    "    # mark center of circle\n",
    "    cv2.circle(kle,(c_x,c_y),2,[0,0,255],-1)\n",
    "    \n",
    "    # draw square starting from center\n",
    "    # cv2.rectangle(kle,(c_x,c_y),(c_x+radius,c_y+radius),[0,0,255],1)\n",
    "    \n",
    "    result = kle # weighted_img(orig, kle)\n",
    "    cv2.imwrite('test/output_' + img_path, result)\n",
    "    \n",
    "    plt.imshow(result)\n",
    "    plt.show()"
   ]
  },
  {
   "cell_type": "code",
   "execution_count": null,
   "metadata": {
    "collapsed": false,
    "deletable": true,
    "editable": true
   },
   "outputs": [],
   "source": [
    "gear_process('gearcount_02.png')"
   ]
  }
 ],
 "metadata": {
  "anaconda-cloud": {},
  "kernelspec": {
   "display_name": "Python 3",
   "language": "python",
   "name": "python3"
  },
  "language_info": {
   "codemirror_mode": {
    "name": "ipython",
    "version": 3
   },
   "file_extension": ".py",
   "mimetype": "text/x-python",
   "name": "python",
   "nbconvert_exporter": "python",
   "pygments_lexer": "ipython3",
   "version": "3.5.2"
  },
  "widgets": {
   "state": {},
   "version": "1.1.2"
  }
 },
 "nbformat": 4,
 "nbformat_minor": 0
}
